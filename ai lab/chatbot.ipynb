{
 "cells": [
  {
   "cell_type": "code",
   "execution_count": null,
   "id": "7fa880c2",
   "metadata": {},
   "outputs": [
    {
     "name": "stdout",
     "output_type": "stream",
     "text": [
      "hello\n",
      ">>>hi\n",
      "heyy\n"
     ]
    }
   ],
   "source": [
    "import random\n",
    "\n",
    "responses = {\n",
    "    \"hi\" :[\"hello\",\"heyy\",\"supp\"],\n",
    "    \"how are you\" :[\"fine\",\"good\"],\n",
    "    \"whats ur name\":[\"im chatbot\",\"my name is chatbot\"],\n",
    "    \"bye\":[\"bye\",\"see you soon\",\"meet soon\"],\n",
    "    \"default\":[\"sorry i cant understand \",\"pardon\"]\n",
    "}\n",
    "\n",
    "def chatbot():\n",
    "    print(random.choice(responses[\"hi\"]))\n",
    "    while True:\n",
    "        msg=input(\">>>\")\n",
    "        msg= msg.lower()\n",
    "        \n",
    "        if msg in responses:\n",
    "            print(random.choice(responses[msg]))\n",
    "            if msg == \"bye\":\n",
    "                break\n",
    "        else:\n",
    "            print(random.choice(responses[\"default\"]))\n",
    "chatbot()\n",
    "        "
   ]
  },
  {
   "cell_type": "code",
   "execution_count": null,
   "id": "a4891aa6",
   "metadata": {},
   "outputs": [],
   "source": []
  }
 ],
 "metadata": {
  "kernelspec": {
   "display_name": "Python 3 (ipykernel)",
   "language": "python",
   "name": "python3"
  },
  "language_info": {
   "codemirror_mode": {
    "name": "ipython",
    "version": 3
   },
   "file_extension": ".py",
   "mimetype": "text/x-python",
   "name": "python",
   "nbconvert_exporter": "python",
   "pygments_lexer": "ipython3",
   "version": "3.9.13"
  }
 },
 "nbformat": 4,
 "nbformat_minor": 5
}
