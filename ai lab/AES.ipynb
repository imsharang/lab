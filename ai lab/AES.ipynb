{
 "cells": [
  {
   "cell_type": "code",
   "execution_count": null,
   "id": "5b998eaa",
   "metadata": {},
   "outputs": [
    {
     "name": "stdout",
     "output_type": "stream",
     "text": [
      "Collecting PyCryptodome\n",
      "  Downloading pycryptodome-3.18.0-cp35-abi3-macosx_10_9_x86_64.whl (1.6 MB)\n",
      "\u001b[2K     \u001b[91m━━━━\u001b[0m\u001b[91m╸\u001b[0m\u001b[90m━━━━━━━━━━━━━━━━━━━━━━━━━━━━━━━━━━━\u001b[0m \u001b[32m0.2/1.6 MB\u001b[0m \u001b[31m6.2 kB/s\u001b[0m eta \u001b[36m0:03:42\u001b[0mm"
     ]
    }
   ],
   "source": [
    "pip install PyCryptodome\n"
   ]
  },
  {
   "cell_type": "code",
   "execution_count": null,
   "id": "fe657f8f",
   "metadata": {},
   "outputs": [],
   "source": [
    "from Crypto.Cipher import AES\n",
    "from secrets import token_bytes"
   ]
  },
  {
   "cell_type": "code",
   "execution_count": null,
   "id": "7f0dd3e2",
   "metadata": {},
   "outputs": [],
   "source": [
    "def encrypt(msg,key):\n",
    " cipher = AES.new(key,AES.MODE_EAX)\n",
    " nonce = cipher.nonce\n",
    " cipher_text , tag = cipher.encrypt_and_digest(msg.encode(\"ascii\"))\n",
    " return cipher_text , tag , nonce"
   ]
  },
  {
   "cell_type": "code",
   "execution_count": null,
   "id": "1f1a00f0",
   "metadata": {},
   "outputs": [],
   "source": [
    "def decrypt(cipher_text, tag, nonce):\n",
    " cipher = AES.new(key,AES.MODE_EAX,nonce=nonce)\n",
    " plain_text = cipher.decrypt(cipher_text)\n",
    " try:\n",
    " cipher.verify(tag)\n",
    " return plain_text.decode(\"ascii\")\n",
    " except:\n",
    " return False"
   ]
  },
  {
   "cell_type": "code",
   "execution_count": null,
   "id": "c9997e3f",
   "metadata": {},
   "outputs": [],
   "source": [
    "key = token_bytes(16) "
   ]
  },
  {
   "cell_type": "code",
   "execution_count": null,
   "id": "fa7398c7",
   "metadata": {},
   "outputs": [],
   "source": [
    "cipher_text, tag, nonce = encrypt(input(\"Enter plain text : \"),key)\n",
    "plain_text = decrypt(cipher_text, tag , nonce = nonce)"
   ]
  },
  {
   "cell_type": "code",
   "execution_count": null,
   "id": "40847323",
   "metadata": {},
   "outputs": [],
   "source": [
    "\n",
    "if(plain_text==False):\n",
    " print(\"Message has been corrupted\")\n",
    "else:\n",
    " print(f'\\nPlaintext : {plain_text}')\n",
    " print(f'Key : {key}')\n",
    " print(f'Ciphertext : {cipher_text}')"
   ]
  },
  {
   "cell_type": "code",
   "execution_count": null,
   "id": "613d3125",
   "metadata": {},
   "outputs": [],
   "source": []
  }
 ],
 "metadata": {
  "kernelspec": {
   "display_name": "Python 3 (ipykernel)",
   "language": "python",
   "name": "python3"
  },
  "language_info": {
   "codemirror_mode": {
    "name": "ipython",
    "version": 3
   },
   "file_extension": ".py",
   "mimetype": "text/x-python",
   "name": "python",
   "nbconvert_exporter": "python",
   "pygments_lexer": "ipython3",
   "version": "3.9.13"
  }
 },
 "nbformat": 4,
 "nbformat_minor": 5
}
