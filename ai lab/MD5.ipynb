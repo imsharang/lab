{
 "cells": [
  {
   "cell_type": "code",
   "execution_count": 3,
   "id": "7482f630",
   "metadata": {},
   "outputs": [
    {
     "name": "stdout",
     "output_type": "stream",
     "text": [
      "hash of input string:\n",
      "eab6930b3c87b22874b40a0e52fe1ca3\n"
     ]
    }
   ],
   "source": [
    "import hashlib\n",
    "inputstring=\"shruti\"\n",
    "output=hashlib.md5(inputstring.encode())\n",
    "print(\"hash of input string:\")\n",
    "print(output.hexdigest())"
   ]
  },
  {
   "cell_type": "code",
   "execution_count": null,
   "id": "87036bb1",
   "metadata": {},
   "outputs": [],
   "source": []
  }
 ],
 "metadata": {
  "kernelspec": {
   "display_name": "Python 3 (ipykernel)",
   "language": "python",
   "name": "python3"
  },
  "language_info": {
   "codemirror_mode": {
    "name": "ipython",
    "version": 3
   },
   "file_extension": ".py",
   "mimetype": "text/x-python",
   "name": "python",
   "nbconvert_exporter": "python",
   "pygments_lexer": "ipython3",
   "version": "3.9.13"
  }
 },
 "nbformat": 4,
 "nbformat_minor": 5
}
